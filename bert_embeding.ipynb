{
 "cells": [
  {
   "cell_type": "code",
   "execution_count": 7,
   "id": "56ccfbb6",
   "metadata": {},
   "outputs": [],
   "source": [
    "import numpy as np\n",
    "import pandas as pd\n",
    "import requests\n",
    "import re\n",
    "\n",
    "from collections import Counter\n",
    "from wordcloud import WordCloud\n",
    "\n",
    "from selenium import webdriver\n",
    "from selenium.webdriver.chrome.service import Service\n",
    "from webdriver_manager.chrome import ChromeDriverManager\n",
    "from selenium.webdriver.chrome.options import Options\n",
    "\n",
    "from bs4 import BeautifulSoup\n",
    "import time\n",
    "from langdetect import detect, LangDetectException\n",
    "import spacy\n",
    "import string\n",
    "import matplotlib.pyplot as plt\n",
    "import seaborn as sns\n",
    "\n",
    "from sklearn.linear_model import LogisticRegression\n",
    "from sklearn.metrics import accuracy_score\n",
    "from sklearn.preprocessing import LabelEncoder\n",
    "from sklearn.model_selection import train_test_split\n",
    "from sklearn.utils.class_weight import compute_class_weight\n",
    "from sklearn.metrics import classification_report, confusion_matrix\n",
    "from sklearn.feature_extraction.text import TfidfVectorizer"
   ]
  },
  {
   "cell_type": "code",
   "execution_count": 8,
   "id": "176264f7",
   "metadata": {},
   "outputs": [
    {
     "name": "stdout",
     "output_type": "stream",
     "text": [
      "(8583, 6)\n"
     ]
    }
   ],
   "source": [
    "# Cargar los dos CSV\n",
    "df1 = pd.read_csv(\"./data/reviews_finales.csv\") \n",
    "df2 = pd.read_csv(\"./data/reviews_finales_2.csv\")\n",
    "df3 = pd.read_csv(\"./data/reviews_finales_3.csv\")\n",
    "\n",
    "# Concatenar y resetear índice para evitar duplicados o índices desordenados\n",
    "df = pd.concat([df1, df2, df3], ignore_index=True)\n",
    "\n",
    "# Verifica el resultado\n",
    "print(df.shape)"
   ]
  },
  {
   "cell_type": "code",
   "execution_count": 9,
   "id": "c5d4496a",
   "metadata": {},
   "outputs": [
    {
     "data": {
      "text/html": [
       "<div>\n",
       "<style scoped>\n",
       "    .dataframe tbody tr th:only-of-type {\n",
       "        vertical-align: middle;\n",
       "    }\n",
       "\n",
       "    .dataframe tbody tr th {\n",
       "        vertical-align: top;\n",
       "    }\n",
       "\n",
       "    .dataframe thead th {\n",
       "        text-align: right;\n",
       "    }\n",
       "</style>\n",
       "<table border=\"1\" class=\"dataframe\">\n",
       "  <thead>\n",
       "    <tr style=\"text-align: right;\">\n",
       "      <th></th>\n",
       "      <th>Unnamed: 0</th>\n",
       "      <th>movie_url</th>\n",
       "      <th>username</th>\n",
       "      <th>date</th>\n",
       "      <th>score</th>\n",
       "      <th>review</th>\n",
       "    </tr>\n",
       "  </thead>\n",
       "  <tbody>\n",
       "    <tr>\n",
       "      <th>0</th>\n",
       "      <td>0</td>\n",
       "      <td>https://www.metacritic.com/movie/moonlight-201...</td>\n",
       "      <td>Randomsquirrel</td>\n",
       "      <td>Jan 15, 2025</td>\n",
       "      <td>10</td>\n",
       "      <td>It was an absolutely brilliant film. Character...</td>\n",
       "    </tr>\n",
       "    <tr>\n",
       "      <th>1</th>\n",
       "      <td>1</td>\n",
       "      <td>https://www.metacritic.com/movie/moonlight-201...</td>\n",
       "      <td>isabellacosta8</td>\n",
       "      <td>Oct 10, 2024</td>\n",
       "      <td>10</td>\n",
       "      <td>[SPOILER ALERT: This review contains spoilers.]</td>\n",
       "    </tr>\n",
       "    <tr>\n",
       "      <th>2</th>\n",
       "      <td>2</td>\n",
       "      <td>https://www.metacritic.com/movie/moonlight-201...</td>\n",
       "      <td>Gabrielx593</td>\n",
       "      <td>Oct 9, 2024</td>\n",
       "      <td>10</td>\n",
       "      <td>[SPOILER ALERT: This review contains spoilers.]</td>\n",
       "    </tr>\n",
       "    <tr>\n",
       "      <th>3</th>\n",
       "      <td>3</td>\n",
       "      <td>https://www.metacritic.com/movie/moonlight-201...</td>\n",
       "      <td>NWR1</td>\n",
       "      <td>Mar 31, 2024</td>\n",
       "      <td>9</td>\n",
       "      <td>I haven’t felt this much emotion in a long tim...</td>\n",
       "    </tr>\n",
       "    <tr>\n",
       "      <th>4</th>\n",
       "      <td>4</td>\n",
       "      <td>https://www.metacritic.com/movie/moonlight-201...</td>\n",
       "      <td>Alexmarshall</td>\n",
       "      <td>Oct 16, 2023</td>\n",
       "      <td>10</td>\n",
       "      <td>Reallyamazing</td>\n",
       "    </tr>\n",
       "  </tbody>\n",
       "</table>\n",
       "</div>"
      ],
      "text/plain": [
       "   Unnamed: 0                                          movie_url  \\\n",
       "0           0  https://www.metacritic.com/movie/moonlight-201...   \n",
       "1           1  https://www.metacritic.com/movie/moonlight-201...   \n",
       "2           2  https://www.metacritic.com/movie/moonlight-201...   \n",
       "3           3  https://www.metacritic.com/movie/moonlight-201...   \n",
       "4           4  https://www.metacritic.com/movie/moonlight-201...   \n",
       "\n",
       "         username          date  score  \\\n",
       "0  Randomsquirrel  Jan 15, 2025     10   \n",
       "1  isabellacosta8  Oct 10, 2024     10   \n",
       "2     Gabrielx593   Oct 9, 2024     10   \n",
       "3            NWR1  Mar 31, 2024      9   \n",
       "4    Alexmarshall  Oct 16, 2023     10   \n",
       "\n",
       "                                              review  \n",
       "0  It was an absolutely brilliant film. Character...  \n",
       "1    [SPOILER ALERT: This review contains spoilers.]  \n",
       "2    [SPOILER ALERT: This review contains spoilers.]  \n",
       "3  I haven’t felt this much emotion in a long tim...  \n",
       "4                                      Reallyamazing  "
      ]
     },
     "execution_count": 9,
     "metadata": {},
     "output_type": "execute_result"
    }
   ],
   "source": [
    "df.head()"
   ]
  },
  {
   "cell_type": "code",
   "execution_count": 10,
   "id": "f5c3dbcd",
   "metadata": {},
   "outputs": [
    {
     "data": {
      "text/plain": [
       "(8583, 6)"
      ]
     },
     "execution_count": 10,
     "metadata": {},
     "output_type": "execute_result"
    }
   ],
   "source": [
    "df.shape"
   ]
  },
  {
   "cell_type": "code",
   "execution_count": 11,
   "id": "52e5c8e7",
   "metadata": {},
   "outputs": [
    {
     "name": "stdout",
     "output_type": "stream",
     "text": [
      "Empty DataFrame\n",
      "Columns: [Unnamed: 0, movie_url, username, date, score, review]\n",
      "Index: []\n"
     ]
    }
   ],
   "source": [
    "# Devuelve un booleano para cada fila indicando si es duplicada (excepto la primera aparición)\n",
    "duplicated_rows = df.duplicated()\n",
    "\n",
    "# Mostrar filas duplicadas\n",
    "print(df[duplicated_rows])"
   ]
  },
  {
   "cell_type": "code",
   "execution_count": 12,
   "id": "80e1adf7",
   "metadata": {},
   "outputs": [
    {
     "data": {
      "text/html": [
       "<div>\n",
       "<style scoped>\n",
       "    .dataframe tbody tr th:only-of-type {\n",
       "        vertical-align: middle;\n",
       "    }\n",
       "\n",
       "    .dataframe tbody tr th {\n",
       "        vertical-align: top;\n",
       "    }\n",
       "\n",
       "    .dataframe thead th {\n",
       "        text-align: right;\n",
       "    }\n",
       "</style>\n",
       "<table border=\"1\" class=\"dataframe\">\n",
       "  <thead>\n",
       "    <tr style=\"text-align: right;\">\n",
       "      <th></th>\n",
       "      <th>Unnamed: 0</th>\n",
       "      <th>movie</th>\n",
       "      <th>username</th>\n",
       "      <th>date</th>\n",
       "      <th>score</th>\n",
       "      <th>review</th>\n",
       "    </tr>\n",
       "  </thead>\n",
       "  <tbody>\n",
       "    <tr>\n",
       "      <th>0</th>\n",
       "      <td>0</td>\n",
       "      <td>Moonlight 2016</td>\n",
       "      <td>Randomsquirrel</td>\n",
       "      <td>Jan 15, 2025</td>\n",
       "      <td>10</td>\n",
       "      <td>It was an absolutely brilliant film. Character...</td>\n",
       "    </tr>\n",
       "    <tr>\n",
       "      <th>1</th>\n",
       "      <td>1</td>\n",
       "      <td>Moonlight 2016</td>\n",
       "      <td>isabellacosta8</td>\n",
       "      <td>Oct 10, 2024</td>\n",
       "      <td>10</td>\n",
       "      <td>[SPOILER ALERT: This review contains spoilers.]</td>\n",
       "    </tr>\n",
       "    <tr>\n",
       "      <th>2</th>\n",
       "      <td>2</td>\n",
       "      <td>Moonlight 2016</td>\n",
       "      <td>Gabrielx593</td>\n",
       "      <td>Oct 9, 2024</td>\n",
       "      <td>10</td>\n",
       "      <td>[SPOILER ALERT: This review contains spoilers.]</td>\n",
       "    </tr>\n",
       "    <tr>\n",
       "      <th>3</th>\n",
       "      <td>3</td>\n",
       "      <td>Moonlight 2016</td>\n",
       "      <td>NWR1</td>\n",
       "      <td>Mar 31, 2024</td>\n",
       "      <td>9</td>\n",
       "      <td>I haven’t felt this much emotion in a long tim...</td>\n",
       "    </tr>\n",
       "    <tr>\n",
       "      <th>4</th>\n",
       "      <td>4</td>\n",
       "      <td>Moonlight 2016</td>\n",
       "      <td>Alexmarshall</td>\n",
       "      <td>Oct 16, 2023</td>\n",
       "      <td>10</td>\n",
       "      <td>Reallyamazing</td>\n",
       "    </tr>\n",
       "  </tbody>\n",
       "</table>\n",
       "</div>"
      ],
      "text/plain": [
       "   Unnamed: 0           movie        username          date  score  \\\n",
       "0           0  Moonlight 2016  Randomsquirrel  Jan 15, 2025     10   \n",
       "1           1  Moonlight 2016  isabellacosta8  Oct 10, 2024     10   \n",
       "2           2  Moonlight 2016     Gabrielx593   Oct 9, 2024     10   \n",
       "3           3  Moonlight 2016            NWR1  Mar 31, 2024      9   \n",
       "4           4  Moonlight 2016    Alexmarshall  Oct 16, 2023     10   \n",
       "\n",
       "                                              review  \n",
       "0  It was an absolutely brilliant film. Character...  \n",
       "1    [SPOILER ALERT: This review contains spoilers.]  \n",
       "2    [SPOILER ALERT: This review contains spoilers.]  \n",
       "3  I haven’t felt this much emotion in a long tim...  \n",
       "4                                      Reallyamazing  "
      ]
     },
     "execution_count": 12,
     "metadata": {},
     "output_type": "execute_result"
    }
   ],
   "source": [
    "# Aplicar la extracción y transformación del nombre de la película a la columna \"movie_url\"\n",
    "df['movie_url'] = df['movie_url'].apply(lambda x: re.search(r'/movie/([^/]+)', x).group(1).replace('-', ' ').title())\n",
    "\n",
    "# Renombrar la columna \"movie_url\" a \"movie\"\n",
    "df = df.rename(columns={\"movie_url\": \"movie\"})\n",
    "\n",
    "df.head(5)"
   ]
  },
  {
   "cell_type": "code",
   "execution_count": 13,
   "id": "0cd60d5b",
   "metadata": {},
   "outputs": [],
   "source": [
    "df = df[~df['review'].isna()] "
   ]
  },
  {
   "cell_type": "code",
   "execution_count": 14,
   "id": "d1a8fc2a",
   "metadata": {},
   "outputs": [
    {
     "data": {
      "text/html": [
       "<div>\n",
       "<style scoped>\n",
       "    .dataframe tbody tr th:only-of-type {\n",
       "        vertical-align: middle;\n",
       "    }\n",
       "\n",
       "    .dataframe tbody tr th {\n",
       "        vertical-align: top;\n",
       "    }\n",
       "\n",
       "    .dataframe thead th {\n",
       "        text-align: right;\n",
       "    }\n",
       "</style>\n",
       "<table border=\"1\" class=\"dataframe\">\n",
       "  <thead>\n",
       "    <tr style=\"text-align: right;\">\n",
       "      <th></th>\n",
       "      <th>Unnamed: 0</th>\n",
       "      <th>movie</th>\n",
       "      <th>username</th>\n",
       "      <th>date</th>\n",
       "      <th>score</th>\n",
       "      <th>review</th>\n",
       "    </tr>\n",
       "  </thead>\n",
       "  <tbody>\n",
       "    <tr>\n",
       "      <th>0</th>\n",
       "      <td>0</td>\n",
       "      <td>Moonlight 2016</td>\n",
       "      <td>Randomsquirrel</td>\n",
       "      <td>Jan 15, 2025</td>\n",
       "      <td>10</td>\n",
       "      <td>It was an absolutely brilliant film. Character...</td>\n",
       "    </tr>\n",
       "    <tr>\n",
       "      <th>3</th>\n",
       "      <td>3</td>\n",
       "      <td>Moonlight 2016</td>\n",
       "      <td>NWR1</td>\n",
       "      <td>Mar 31, 2024</td>\n",
       "      <td>9</td>\n",
       "      <td>I haven’t felt this much emotion in a long tim...</td>\n",
       "    </tr>\n",
       "    <tr>\n",
       "      <th>5</th>\n",
       "      <td>5</td>\n",
       "      <td>Moonlight 2016</td>\n",
       "      <td>Youngoth</td>\n",
       "      <td>Oct 16, 2023</td>\n",
       "      <td>10</td>\n",
       "      <td>This movie is masterpiece, so well done. Deser...</td>\n",
       "    </tr>\n",
       "    <tr>\n",
       "      <th>6</th>\n",
       "      <td>6</td>\n",
       "      <td>Moonlight 2016</td>\n",
       "      <td>Dominik08</td>\n",
       "      <td>Aug 15, 2023</td>\n",
       "      <td>8</td>\n",
       "      <td>A refined production, with no obvious weakness...</td>\n",
       "    </tr>\n",
       "    <tr>\n",
       "      <th>7</th>\n",
       "      <td>7</td>\n",
       "      <td>Moonlight 2016</td>\n",
       "      <td>AgentLvi</td>\n",
       "      <td>Jun 27, 2023</td>\n",
       "      <td>7</td>\n",
       "      <td>Decent movie. The story is so --so, scoring is...</td>\n",
       "    </tr>\n",
       "  </tbody>\n",
       "</table>\n",
       "</div>"
      ],
      "text/plain": [
       "   Unnamed: 0           movie        username          date  score  \\\n",
       "0           0  Moonlight 2016  Randomsquirrel  Jan 15, 2025     10   \n",
       "3           3  Moonlight 2016            NWR1  Mar 31, 2024      9   \n",
       "5           5  Moonlight 2016        Youngoth  Oct 16, 2023     10   \n",
       "6           6  Moonlight 2016       Dominik08  Aug 15, 2023      8   \n",
       "7           7  Moonlight 2016        AgentLvi  Jun 27, 2023      7   \n",
       "\n",
       "                                              review  \n",
       "0  It was an absolutely brilliant film. Character...  \n",
       "3  I haven’t felt this much emotion in a long tim...  \n",
       "5  This movie is masterpiece, so well done. Deser...  \n",
       "6  A refined production, with no obvious weakness...  \n",
       "7  Decent movie. The story is so --so, scoring is...  "
      ]
     },
     "execution_count": 14,
     "metadata": {},
     "output_type": "execute_result"
    }
   ],
   "source": [
    "# Función para manejar excepciones y textos vacíos\n",
    "def safe_detect(text):\n",
    "    try:\n",
    "        if text.strip():  # Asegurarse de que el texto no esté vacío\n",
    "            return detect(text)\n",
    "        else:\n",
    "            return None  # Si el texto está vacío, devuelve None\n",
    "    except LangDetectException:\n",
    "        return None  # Si no puede detectar el idioma, devuelve None\n",
    "\n",
    "# Eliminar las filas donde la columna 'review' contiene \"SPOILER ALERT\" y crear la columna 'sentiment' basada en la columna 'score'\n",
    "df = (df[~df['review'].str.contains(\"SPOILER ALERT\", case=True, na=False)]\n",
    "              .assign(language = df['review'].apply(safe_detect)))\n",
    "\n",
    "# Filtrar el DataFrame para quedarse solo con las filas donde el idioma es 'en'\n",
    "df = df[df['language'] == 'en']\n",
    "\n",
    "df = df.drop('language', axis = 1)\n",
    "\n",
    "df.head(5)"
   ]
  },
  {
   "cell_type": "code",
   "execution_count": 15,
   "id": "86b001b6",
   "metadata": {},
   "outputs": [
    {
     "data": {
      "text/html": [
       "<div>\n",
       "<style scoped>\n",
       "    .dataframe tbody tr th:only-of-type {\n",
       "        vertical-align: middle;\n",
       "    }\n",
       "\n",
       "    .dataframe tbody tr th {\n",
       "        vertical-align: top;\n",
       "    }\n",
       "\n",
       "    .dataframe thead th {\n",
       "        text-align: right;\n",
       "    }\n",
       "</style>\n",
       "<table border=\"1\" class=\"dataframe\">\n",
       "  <thead>\n",
       "    <tr style=\"text-align: right;\">\n",
       "      <th></th>\n",
       "      <th>Unnamed: 0</th>\n",
       "      <th>movie</th>\n",
       "      <th>username</th>\n",
       "      <th>date</th>\n",
       "      <th>score</th>\n",
       "      <th>review</th>\n",
       "      <th>sentiment</th>\n",
       "    </tr>\n",
       "  </thead>\n",
       "  <tbody>\n",
       "    <tr>\n",
       "      <th>0</th>\n",
       "      <td>0</td>\n",
       "      <td>Moonlight 2016</td>\n",
       "      <td>Randomsquirrel</td>\n",
       "      <td>Jan 15, 2025</td>\n",
       "      <td>10</td>\n",
       "      <td>It was an absolutely brilliant film. Character...</td>\n",
       "      <td>POS</td>\n",
       "    </tr>\n",
       "    <tr>\n",
       "      <th>3</th>\n",
       "      <td>3</td>\n",
       "      <td>Moonlight 2016</td>\n",
       "      <td>NWR1</td>\n",
       "      <td>Mar 31, 2024</td>\n",
       "      <td>9</td>\n",
       "      <td>I haven’t felt this much emotion in a long tim...</td>\n",
       "      <td>POS</td>\n",
       "    </tr>\n",
       "    <tr>\n",
       "      <th>5</th>\n",
       "      <td>5</td>\n",
       "      <td>Moonlight 2016</td>\n",
       "      <td>Youngoth</td>\n",
       "      <td>Oct 16, 2023</td>\n",
       "      <td>10</td>\n",
       "      <td>This movie is masterpiece, so well done. Deser...</td>\n",
       "      <td>POS</td>\n",
       "    </tr>\n",
       "    <tr>\n",
       "      <th>6</th>\n",
       "      <td>6</td>\n",
       "      <td>Moonlight 2016</td>\n",
       "      <td>Dominik08</td>\n",
       "      <td>Aug 15, 2023</td>\n",
       "      <td>8</td>\n",
       "      <td>A refined production, with no obvious weakness...</td>\n",
       "      <td>POS</td>\n",
       "    </tr>\n",
       "    <tr>\n",
       "      <th>7</th>\n",
       "      <td>7</td>\n",
       "      <td>Moonlight 2016</td>\n",
       "      <td>AgentLvi</td>\n",
       "      <td>Jun 27, 2023</td>\n",
       "      <td>7</td>\n",
       "      <td>Decent movie. The story is so --so, scoring is...</td>\n",
       "      <td>POS</td>\n",
       "    </tr>\n",
       "  </tbody>\n",
       "</table>\n",
       "</div>"
      ],
      "text/plain": [
       "   Unnamed: 0           movie        username          date  score  \\\n",
       "0           0  Moonlight 2016  Randomsquirrel  Jan 15, 2025     10   \n",
       "3           3  Moonlight 2016            NWR1  Mar 31, 2024      9   \n",
       "5           5  Moonlight 2016        Youngoth  Oct 16, 2023     10   \n",
       "6           6  Moonlight 2016       Dominik08  Aug 15, 2023      8   \n",
       "7           7  Moonlight 2016        AgentLvi  Jun 27, 2023      7   \n",
       "\n",
       "                                              review sentiment  \n",
       "0  It was an absolutely brilliant film. Character...       POS  \n",
       "3  I haven’t felt this much emotion in a long tim...       POS  \n",
       "5  This movie is masterpiece, so well done. Deser...       POS  \n",
       "6  A refined production, with no obvious weakness...       POS  \n",
       "7  Decent movie. The story is so --so, scoring is...       POS  "
      ]
     },
     "execution_count": 15,
     "metadata": {},
     "output_type": "execute_result"
    }
   ],
   "source": [
    "df['sentiment'] = df['score'].apply(lambda x: 'NEG' if x <= 3 else ('NEU' if 4 <= x <= 6 else 'POS'))\n",
    "\n",
    "df.head(5)"
   ]
  },
  {
   "cell_type": "code",
   "execution_count": 16,
   "id": "4510566d",
   "metadata": {},
   "outputs": [
    {
     "data": {
      "text/plain": [
       "(7466, 7)"
      ]
     },
     "execution_count": 16,
     "metadata": {},
     "output_type": "execute_result"
    }
   ],
   "source": [
    "df.shape"
   ]
  },
  {
   "cell_type": "markdown",
   "id": "fde02393",
   "metadata": {},
   "source": [
    "Instalación del modelo de spaCy\n",
    "\n",
    "Para instalar el modelo `en_core_web_md` de **spaCy**, ejecuta el siguiente comando en tu **Anaconda Prompt** o **Terminal**:\n",
    "\n",
    "```bash\n",
    "python -m spacy download en_core_web_md\n"
   ]
  },
  {
   "cell_type": "code",
   "execution_count": 17,
   "id": "a3bee514",
   "metadata": {},
   "outputs": [],
   "source": [
    "nlp = spacy.load('en_core_web_md')"
   ]
  },
  {
   "cell_type": "code",
   "execution_count": 18,
   "id": "7fb8bb4e",
   "metadata": {},
   "outputs": [
    {
     "name": "stdout",
     "output_type": "stream",
     "text": [
      "{'thereafter', 'rather', 'something', 'my', 'myself', 'once', 'where', 'with', 'next', 'third', 'sixty', \"'d\", 'as', 'four', 'they', 'perhaps', 'anywhere', 'there', 'without', 'further', 'during', 'often', 'nine', 'against', 'being', 'themselves', 'take', 'down', 'among', 'whom', 'whose', 'hers', 'itself', 'at', 'so', 'empty', 'therein', 'nowhere', '‘ve', 'she', 'upon', 'several', 'such', 'over', 'since', 'anything', '’re', 'thereby', 'show', 'neither', 'becomes', 'then', 'should', 'whatever', 'under', 'you', 'already', '‘s', 'been', 'before', 'these', 'everywhere', 'sometimes', 'seeming', 'him', 'throughout', 'thereupon', 'three', 'call', 'across', 'still', 'herein', 'becoming', 'yours', 'former', 'most', 'made', 'along', 'by', 'too', 'above', '’ll', 'least', 'quite', 'serious', 'few', 'not', 'many', 'it', 'namely', 'one', 'seem', 'all', 'mostly', 'though', 'would', 'front', 'any', 'eleven', 'forty', 'have', 'must', 'name', 'the', 'toward', 'in', 'doing', 'same', 'fifty', 'because', 'say', 'through', 'be', 'otherwise', 'anyone', 'do', 'unless', 'seemed', 'those', 'now', 'thus', 'therefore', 'moreover', 'does', \"'ve\", 'beyond', 'around', 'anyhow', 'per', 'from', 'was', 'them', 'somehow', 'and', 'always', 'various', 'whereby', 'due', '’ve', 'last', 'below', 'everyone', 'see', 'nothing', 'had', 'just', 'really', 'indeed', 'go', 'hundred', 'of', 'whether', 'n‘t', 'regarding', 'keep', 'behind', 'amongst', 'sometime', 'wherever', 'either', 'every', '’d', 'why', 'someone', 'another', 'which', 'i', 'to', 'put', 'here', 'thru', 'within', 'amount', 'meanwhile', \"'re\", '‘d', 'others', 'however', 'n’t', 'get', 'will', '‘re', 'own', 'their', 'give', 'yourself', 'much', 'can', \"'m\", 'hereby', 'whence', '‘ll', 'although', 'this', 'alone', 'become', 'side', 'we', 'used', 'for', 'elsewhere', 'hence', 'move', 'each', 'if', 'me', 'very', 'while', 'thence', 'off', 'is', 'again', 'after', 'latterly', 'never', 'onto', 'nobody', 'eight', 'afterwards', 'even', 'make', 'are', 'formerly', 'noone', 'when', 'himself', 'no', 'wherein', 'also', 'somewhere', 'yourselves', 'than', 're', 'cannot', 'less', '’m', 'twenty', 'about', 'her', 'only', 'that', 'other', 'he', 'ourselves', 'up', 'ten', 'whole', 'else', 'on', 'fifteen', 'has', 'a', 'done', 'well', 'enough', 'everything', 'whereas', 'part', 'beside', 'who', 'us', 'ever', 'ours', 'except', \"'s\", 'none', 'herself', 'using', 'back', 'beforehand', 'what', \"n't\", '’s', 'into', 'out', 'six', 'might', 'could', 'both', 'our', 'towards', 'nevertheless', 'whoever', 'between', 'am', \"'ll\", 'twelve', 'how', 'whereupon', 'nor', 'but', 'an', 'whereafter', 'latter', 'did', 'seems', 'until', 'top', 'yet', 'hereafter', 'became', 'whenever', 'may', 'were', 'together', 'more', 'first', '‘m', 'or', 'five', 'via', 'his', 'hereupon', 'anyway', 'whither', 'your', 'bottom', 'full', 'mine', 'its', 'ca', 'some', 'two', 'almost', 'please', 'besides'}\n"
     ]
    }
   ],
   "source": [
    "from spacy.lang.en.stop_words import STOP_WORDS\n",
    "print(STOP_WORDS)"
   ]
  },
  {
   "cell_type": "markdown",
   "id": "5eb13def",
   "metadata": {},
   "source": [
    "Podemos calcular un porcentaje de stopwords para cada clase, para ver directamente la influencia de ellos en el texto. "
   ]
  },
  {
   "cell_type": "code",
   "execution_count": 19,
   "id": "696f5a58",
   "metadata": {},
   "outputs": [],
   "source": [
    "# función para calcular el porcentaje de stopwords en un texto\n",
    "def stopword_percentage(tokens):\n",
    "    stopword_count = sum(1 for word in tokens if word in STOP_WORDS)\n",
    "    stopword_pct = (stopword_count / len(tokens)) * 100\n",
    "    return stopword_pct\n",
    "\n",
    "# Función para limpiar, tokenizar y lematizar\n",
    "def process_text_column2(df, text_column):\n",
    "\n",
    "    df['stopword_percentage'] = df[text_column].apply(stopword_percentage)\n",
    "    return df\n",
    "\n",
    "def graphics_stopwords(df, text_column):\n",
    "\n",
    "    stopwords_by_rating = df.groupby(text_column)['stopword_percentage'].mean()\n",
    "    meaningful_by_rating = 100 - stopwords_by_rating\n",
    "\n",
    "    plt.figure(figsize=(8, 6))\n",
    "    bar1 = plt.bar(stopwords_by_rating.index, stopwords_by_rating, color='#2C77A8', label='Stopwords')\n",
    "    bar2 = plt.bar(meaningful_by_rating.index, meaningful_by_rating, bottom=stopwords_by_rating, color='#87CEEB', label='Palabras con significado')\n",
    "\n",
    "    plt.xlabel(text_column)\n",
    "    plt.ylabel('Porcentaje')\n",
    "    plt.title('Porcentaje de stopwords vs. con significado')\n",
    "    plt.xticks(stopwords_by_rating.index)\n",
    "    plt.legend()\n",
    "    plt.show()"
   ]
  },
  {
   "cell_type": "code",
   "execution_count": 20,
   "id": "1c042941",
   "metadata": {},
   "outputs": [
    {
     "data": {
      "image/png": "[encoded data removed]",
      "text/plain": [
       "<Figure size 800x600 with 1 Axes>"
      ]
     },
     "metadata": {},
     "output_type": "display_data"
    }
   ],
   "source": [
    "process_text_column2(df, 'review')\n",
    "graphics_stopwords(df, 'sentiment')"
   ]
  },
  {
   "cell_type": "markdown",
   "id": "5802ed54",
   "metadata": {},
   "source": [
    "Podemos ver como el porcentaje de stopwords es de alrededor del 15%"
   ]
  },
  {
   "cell_type": "code",
   "execution_count": 21,
   "id": "6a70ddd4",
   "metadata": {},
   "outputs": [
    {
     "data": {
      "text/html": [
       "<div>\n",
       "<style scoped>\n",
       "    .dataframe tbody tr th:only-of-type {\n",
       "        vertical-align: middle;\n",
       "    }\n",
       "\n",
       "    .dataframe tbody tr th {\n",
       "        vertical-align: top;\n",
       "    }\n",
       "\n",
       "    .dataframe thead th {\n",
       "        text-align: right;\n",
       "    }\n",
       "</style>\n",
       "<table border=\"1\" class=\"dataframe\">\n",
       "  <thead>\n",
       "    <tr style=\"text-align: right;\">\n",
       "      <th></th>\n",
       "      <th>Unnamed: 0</th>\n",
       "      <th>movie</th>\n",
       "      <th>username</th>\n",
       "      <th>date</th>\n",
       "      <th>score</th>\n",
       "      <th>review</th>\n",
       "      <th>sentiment</th>\n",
       "      <th>stopword_percentage</th>\n",
       "    </tr>\n",
       "  </thead>\n",
       "  <tbody>\n",
       "    <tr>\n",
       "      <th>0</th>\n",
       "      <td>0</td>\n",
       "      <td>Moonlight 2016</td>\n",
       "      <td>Randomsquirrel</td>\n",
       "      <td>Jan 15, 2025</td>\n",
       "      <td>10</td>\n",
       "      <td>absolutely brilliant film character deep plot ...</td>\n",
       "      <td>POS</td>\n",
       "      <td>16.875000</td>\n",
       "    </tr>\n",
       "    <tr>\n",
       "      <th>3</th>\n",
       "      <td>3</td>\n",
       "      <td>Moonlight 2016</td>\n",
       "      <td>NWR1</td>\n",
       "      <td>Mar 31, 2024</td>\n",
       "      <td>9</td>\n",
       "      <td>feel emotion long time chiron manifest emotion...</td>\n",
       "      <td>POS</td>\n",
       "      <td>12.867647</td>\n",
       "    </tr>\n",
       "    <tr>\n",
       "      <th>5</th>\n",
       "      <td>5</td>\n",
       "      <td>Moonlight 2016</td>\n",
       "      <td>Youngoth</td>\n",
       "      <td>Oct 16, 2023</td>\n",
       "      <td>10</td>\n",
       "      <td>movie masterpiece deserve oscar</td>\n",
       "      <td>POS</td>\n",
       "      <td>10.294118</td>\n",
       "    </tr>\n",
       "    <tr>\n",
       "      <th>6</th>\n",
       "      <td>6</td>\n",
       "      <td>Moonlight 2016</td>\n",
       "      <td>Dominik08</td>\n",
       "      <td>Aug 15, 2023</td>\n",
       "      <td>8</td>\n",
       "      <td>refined production obvious weakness base ratio...</td>\n",
       "      <td>POS</td>\n",
       "      <td>13.333333</td>\n",
       "    </tr>\n",
       "    <tr>\n",
       "      <th>7</th>\n",
       "      <td>7</td>\n",
       "      <td>Moonlight 2016</td>\n",
       "      <td>AgentLvi</td>\n",
       "      <td>Jun 27, 2023</td>\n",
       "      <td>7</td>\n",
       "      <td>decent movie story   so scoring great visual d...</td>\n",
       "      <td>POS</td>\n",
       "      <td>13.131313</td>\n",
       "    </tr>\n",
       "  </tbody>\n",
       "</table>\n",
       "</div>"
      ],
      "text/plain": [
       "   Unnamed: 0           movie        username          date  score  \\\n",
       "0           0  Moonlight 2016  Randomsquirrel  Jan 15, 2025     10   \n",
       "3           3  Moonlight 2016            NWR1  Mar 31, 2024      9   \n",
       "5           5  Moonlight 2016        Youngoth  Oct 16, 2023     10   \n",
       "6           6  Moonlight 2016       Dominik08  Aug 15, 2023      8   \n",
       "7           7  Moonlight 2016        AgentLvi  Jun 27, 2023      7   \n",
       "\n",
       "                                              review sentiment  \\\n",
       "0  absolutely brilliant film character deep plot ...       POS   \n",
       "3  feel emotion long time chiron manifest emotion...       POS   \n",
       "5                    movie masterpiece deserve oscar       POS   \n",
       "6  refined production obvious weakness base ratio...       POS   \n",
       "7  decent movie story   so scoring great visual d...       POS   \n",
       "\n",
       "   stopword_percentage  \n",
       "0            16.875000  \n",
       "3            12.867647  \n",
       "5            10.294118  \n",
       "6            13.333333  \n",
       "7            13.131313  "
      ]
     },
     "execution_count": 21,
     "metadata": {},
     "output_type": "execute_result"
    }
   ],
   "source": [
    "# Definir el patrón para los caracteres especiales\n",
    "pat = '[{}]'.format(re.escape(string.punctuation))\n",
    "\n",
    "# Definir la función para normalizar, lematizar y eliminar puntuación\n",
    "def normalize_document_remove_punct(doc):\n",
    "\n",
    "    doc = re.sub(r'\\d+', '', doc)\n",
    "    # Separamos en tokens\n",
    "    tokens = nlp(doc)\n",
    "    \n",
    "    # Quitamos puntuación, espacios y stopwords, y aplicamos lematización\n",
    "    filtered_tokens = [re.sub(pat, ' ', t.lemma_.lower())  # Usamos t.lemma_ para lematizar\n",
    "                       for t in tokens\n",
    "                       if not t.is_stop        # Eliminar stopwords\n",
    "                       and not t.is_punct      # Eliminar puntuación\n",
    "                       and not t.is_space]      # Eliminar espacios]     \n",
    "    \n",
    "    # Juntamos de nuevo en una cadena\n",
    "    doc = ' '.join(filtered_tokens)\n",
    "    \n",
    "    return doc\n",
    "\n",
    "# Aplicar la función a cada elemento de la columna 'contenido' tanto en treino como en test\n",
    "df['review'] = df['review'].apply(normalize_document_remove_punct)\n",
    "\n",
    "df.head(5)"
   ]
  },
  {
   "cell_type": "code",
   "execution_count": null,
   "id": "1a19200d",
   "metadata": {},
   "outputs": [
    {
     "name": "stdout",
     "output_type": "stream",
     "text": [
      "sentiment\n",
      "NEU    1770\n",
      "NEG    1735\n",
      "POS    1735\n",
      "Name: count, dtype: int64\n"
     ]
    }
   ],
   "source": [
    "# import pandas as pd\n",
    "\n",
    "# # Suponiendo que df ya está cargado y tiene la columna \"sentiment\"\n",
    "# df_pos = df[df['sentiment'] == 'POS']\n",
    "# df_neu = df[df['sentiment'] == 'NEU']\n",
    "# df_neg = df[df['sentiment'] == 'NEG']\n",
    "\n",
    "# # Obtener el tamaño mínimo entre las clases\n",
    "# min_size = min(len(df_neu), len(df_neg))\n",
    "\n",
    "# # Reducir POS aleatoriamente al tamaño mínimo\n",
    "# df_pos_bal = df_pos.sample(n=min_size, random_state=42)\n",
    "\n",
    "# # Combinar los tres subconjuntos balanceados\n",
    "# df_balanced = pd.concat([df_pos_bal, df_neu, df_neg], ignore_index=True)\n",
    "\n",
    "# # Opcional: mezclar el resultado final\n",
    "# df = df_balanced.sample(frac=1, random_state=42).reset_index(drop=True)\n",
    "\n",
    "# # Mostrar resumen\n",
    "# print(df['sentiment'].value_counts())\n"
   ]
  },
  {
   "cell_type": "markdown",
   "id": "1e646e68",
   "metadata": {},
   "source": [
    "## BERT"
   ]
  },
  {
   "cell_type": "code",
   "execution_count": 35,
   "id": "928ec211",
   "metadata": {},
   "outputs": [],
   "source": [
    "# Separar para clasificación de sentimiento\n",
    "X_train_sent, X_test_sent, y_train_sent, y_test_sent = train_test_split(\n",
    "    df['review'], df['sentiment'], test_size=0.2, random_state=42)\n",
    "\n",
    "# Separar para predicción del score\n",
    "X_train_score, X_test_score, y_train_score, y_test_score = train_test_split(\n",
    "    df['review'], df['score'].astype(int), test_size=0.2, random_state=42)"
   ]
  },
  {
   "cell_type": "code",
   "execution_count": 36,
   "id": "c49397e4",
   "metadata": {},
   "outputs": [],
   "source": [
    "from sentence_transformers import SentenceTransformer\n",
    "\n",
    "# Modelo multilingüe pequeño y rápido\n",
    "model = SentenceTransformer('all-mpnet-base-v2')\n",
    "\n",
    "\n",
    "# Aplicar BERT a tus textos de test\n",
    "X_train_bert = model.encode(X_train_sent.tolist(), convert_to_numpy=True)\n",
    "X_test_bert = model.encode(X_test_sent.tolist(), convert_to_numpy=True)"
   ]
  },
  {
   "cell_type": "code",
   "execution_count": 37,
   "id": "0f478333",
   "metadata": {},
   "outputs": [
    {
     "name": "stdout",
     "output_type": "stream",
     "text": [
      "              precision    recall  f1-score   support\n",
      "\n",
      "         NEG       0.69      0.70      0.69       359\n",
      "         NEU       0.56      0.48      0.52       349\n",
      "         POS       0.68      0.76      0.71       340\n",
      "\n",
      "    accuracy                           0.65      1048\n",
      "   macro avg       0.64      0.65      0.64      1048\n",
      "weighted avg       0.64      0.65      0.64      1048\n",
      "\n"
     ]
    }
   ],
   "source": [
    "le = LabelEncoder()\n",
    "y_train_sent_enc = le.fit_transform(y_train_sent)\n",
    "y_test_sent_enc = le.transform(y_test_sent)\n",
    "\n",
    "modelLR = LogisticRegression(solver='liblinear')\n",
    "#Entrenamos el modelo con el conjunto de train\n",
    "modelLR.fit(X_train_bert, y_train_sent_enc)\n",
    "prediccion = modelLR.predict(X_test_bert)\n",
    "\n",
    "\n",
    "print(classification_report(y_test_sent_enc, prediccion, target_names=le.classes_))"
   ]
  },
  {
   "cell_type": "code",
   "execution_count": 38,
   "id": "a9004f70",
   "metadata": {},
   "outputs": [
    {
     "name": "stdout",
     "output_type": "stream",
     "text": [
      "              precision    recall  f1-score   support\n",
      "\n",
      "         NEG       0.69      0.71      0.70       359\n",
      "         NEU       0.57      0.48      0.52       349\n",
      "         POS       0.68      0.76      0.72       340\n",
      "\n",
      "    accuracy                           0.65      1048\n",
      "   macro avg       0.64      0.65      0.64      1048\n",
      "weighted avg       0.64      0.65      0.64      1048\n",
      "\n"
     ]
    }
   ],
   "source": [
    "from sklearn.linear_model import LogisticRegression\n",
    "from sklearn.metrics import classification_report\n",
    "\n",
    "clf = LogisticRegression(class_weight='balanced', solver='liblinear')\n",
    "clf.fit(X_train_bert, y_train_sent_enc)\n",
    "y_pred = clf.predict(X_test_bert)\n",
    "\n",
    "print(classification_report(y_test_sent_enc, y_pred, target_names=le.classes_))\n"
   ]
  }
 ],
 "metadata": {
  "kernelspec": {
   "display_name": "master",
   "language": "python",
   "name": "python3"
  },
  "language_info": {
   "codemirror_mode": {
    "name": "ipython",
    "version": 3
   },
   "file_extension": ".py",
   "mimetype": "text/x-python",
   "name": "python",
   "nbconvert_exporter": "python",
   "pygments_lexer": "ipython3",
   "version": "3.12.10"
  }
 },
 "nbformat": 4,
 "nbformat_minor": 5
}
